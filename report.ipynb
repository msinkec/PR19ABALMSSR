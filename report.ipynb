{
 "cells": [
  {
   "cell_type": "code",
   "execution_count": 6,
   "metadata": {
    "scrolled": false
   },
   "outputs": [
    {
     "data": {
      "text/plain": [
       "'\\nOpis projekta\\n\\nCilj na\\xc5\\xa1ega projektnega dela je, da analaziramo podatke restavracij, \\nki so objavljene na TripAdvisor-ju in pridobiti nova znanja na podlagi \\nteh. Posku\\xc5\\xa1ali se bomo osredoto\\xc4\\x8diti na restavracije v Sloveniji.\\n\\n\\nPodatke smo dobili na spletni strani Kaggle.\\n\\n\\nPodatki so bili \\xc5\\xbee v lepo strukturirani obliki, tako da je bilo \\npredprocesiranja malo.\\n\\nI\\xc5\\xa1\\xc4\\x8demo odgovore na vpra\\xc5\\xa1anja, kot so slede\\xc4\\x8da:\\n\\n- Distribucija vrste kuhinj po mestih - katera mesta imajo podobne \\ntipe uspe\\xc5\\xa1nih restavracij? \\n\\n- Ali obstaja korelacija med cenovnim razredom restavracije in oceno? \\n- Ali je vrsta kuhinj dober napovednik za oceno? \\n\\n- Ali je mo\\xc5\\xbeno na podlagi teh podatkov zgraditi model za napovedovanje\\nuspe\\xc5\\xa1nosti restavracije? \\n\\n- Katerih tipov kuhinj v dolo\\xc4\\x8denem mestu \"primanjkuje\" glede na \\xc5\\xa1tevila te kuhinje v drugih mestih? \\n'"
      ]
     },
     "execution_count": 6,
     "metadata": {},
     "output_type": "execute_result"
    }
   ],
   "source": [
    "from IPython.display import Image\n",
    "from IPython.core.display import HTML \n",
    "'''\n",
    "Opis projekta\n",
    "\n",
    "Cilj našega projektnega dela je, da analaziramo podatke restavracij, \n",
    "ki so objavljene na TripAdvisor-ju in pridobiti nova znanja na podlagi \n",
    "teh. Poskušali se bomo osredotočiti na restavracije v Sloveniji.\n",
    "\n",
    "\n",
    "Podatke smo dobili na spletni strani Kaggle.\n",
    "\n",
    "\n",
    "Podatki so bili že v lepo strukturirani obliki, tako da je bilo \n",
    "predprocesiranja malo.\n",
    "\n",
    "Iščemo odgovore na vprašanja, kot so sledeča:\n",
    "\n",
    "- Distribucija vrste kuhinj po mestih - katera mesta imajo podobne \n",
    "tipe uspešnih restavracij? \n",
    "\n",
    "- Ali obstaja korelacija med cenovnim razredom restavracije in oceno? \n",
    "- Ali je vrsta kuhinj dober napovednik za oceno? \n",
    "\n",
    "- Ali je možno na podlagi teh podatkov zgraditi model za napovedovanje\n",
    "uspešnosti restavracije? \n",
    "\n",
    "- Katerih tipov kuhinj v določenem mestu \"primanjkuje\" glede na števila te kuhinje v drugih mestih? \n",
    "'''"
   ]
  },
  {
   "cell_type": "code",
   "execution_count": null,
   "metadata": {},
   "outputs": [],
   "source": [
    "'''\n",
    "Izvedba projekta\n",
    "\n",
    "Faza 1\n",
    "\n",
    "V začetni fazi smo želeli vizualizirati nekaj razmerj med podatki \n",
    "brez pretiranega predprocesiranja, da dobimo malo občutek, kako so\n",
    "ratingi restavracij in njihove druge lastnosti distribuirane.\n",
    "\n",
    "Za začetek smo samo prebrali in izpisali dataset:\n",
    "'''"
   ]
  },
  {
   "cell_type": "code",
   "execution_count": 8,
   "metadata": {},
   "outputs": [
    {
     "data": {
      "text/html": [
       "<img src=\"images/ds.png\"/>"
      ],
      "text/plain": [
       "<IPython.core.display.Image object>"
      ]
     },
     "execution_count": 8,
     "metadata": {},
     "output_type": "execute_result"
    }
   ],
   "source": [
    "\n",
    "Image(url= \"images/ds.png\")"
   ]
  },
  {
   "cell_type": "code",
   "execution_count": null,
   "metadata": {},
   "outputs": [],
   "source": [
    "'''\n",
    "Nato smo se usmerili malo v Ljubljano in izrisali graf,\n",
    "ki prikazuje koliko restavracij v Ljublani ima kakšen rating.\n",
    "'''"
   ]
  },
  {
   "cell_type": "code",
   "execution_count": 10,
   "metadata": {},
   "outputs": [
    {
     "data": {
      "text/html": [
       "<img src=\"images/distribucijaLj.PNG\"/>"
      ],
      "text/plain": [
       "<IPython.core.display.Image object>"
      ]
     },
     "execution_count": 10,
     "metadata": {},
     "output_type": "execute_result"
    }
   ],
   "source": [
    "Image(url= \"images/distribucijaLj.PNG\")"
   ]
  },
  {
   "cell_type": "code",
   "execution_count": null,
   "metadata": {},
   "outputs": [],
   "source": [
    "'''\n",
    "Po the uvodnih korakih smo se domislili, da bi lahko naredili \n",
    "wordcloud najbolj popularnih besed v komentarjih. \n",
    "Za odstranitev neuporabnih besed (it, the,…) smo uporabili \n",
    "modul nltk.\n",
    "'''"
   ]
  },
  {
   "cell_type": "code",
   "execution_count": 14,
   "metadata": {},
   "outputs": [
    {
     "data": {
      "text/html": [
       "<img src=\"images/wordCloud.JPG\"/>"
      ],
      "text/plain": [
       "<IPython.core.display.Image object>"
      ]
     },
     "execution_count": 14,
     "metadata": {},
     "output_type": "execute_result"
    }
   ],
   "source": [
    "Image(url= \"images/wordCloud.JPG\")"
   ]
  },
  {
   "cell_type": "code",
   "execution_count": null,
   "metadata": {},
   "outputs": [],
   "source": [
    "'''Katere so najbolj popularne vrsta kuhinj v Ljubljani?'''"
   ]
  },
  {
   "cell_type": "code",
   "execution_count": 12,
   "metadata": {},
   "outputs": [
    {
     "data": {
      "text/html": [
       "<img src=\"images/cuisineType.JPG\"/>"
      ],
      "text/plain": [
       "<IPython.core.display.Image object>"
      ]
     },
     "execution_count": 12,
     "metadata": {},
     "output_type": "execute_result"
    }
   ],
   "source": [
    "Image(url= \"images/cuisineType.JPG\")"
   ]
  },
  {
   "cell_type": "code",
   "execution_count": null,
   "metadata": {},
   "outputs": [],
   "source": [
    "'''\n",
    "\n",
    "Faza 2\n",
    "\n",
    "\n",
    "Od relativno preprostih stvari smo se odločili nadaljevati \n",
    "naše delo v smeri zadnjega in predzadnjega vprašanja, saj\n",
    "se je na podlagi naših (že tako informacijsko omejenih) podatkov\n",
    "to zdela najbolj optimalna opcija.\n",
    "\n",
    "Cilj nam je bil karseda natančno napovedati uspešnost restavracije\n",
    "v določenem mestu.\n",
    "\n",
    "Najprej smo ustvarili dataframe z distribucijo kuhinj za vsako \n",
    "mesto.'''"
   ]
  },
  {
   "cell_type": "code",
   "execution_count": 15,
   "metadata": {},
   "outputs": [
    {
     "data": {
      "text/html": [
       "<img src=\"images/pomestih.png\"/>"
      ],
      "text/plain": [
       "<IPython.core.display.Image object>"
      ]
     },
     "execution_count": 15,
     "metadata": {},
     "output_type": "execute_result"
    }
   ],
   "source": [
    "Image(url= \"images/pomestih.png\")"
   ]
  },
  {
   "cell_type": "code",
   "execution_count": null,
   "metadata": {},
   "outputs": [],
   "source": [
    "'''\n",
    "Spodnji graf prikazuje, v katerem mestu (razen v Bruslju)\n",
    "je največ belgijskih restavracij:'''"
   ]
  },
  {
   "cell_type": "code",
   "execution_count": 16,
   "metadata": {},
   "outputs": [
    {
     "data": {
      "text/html": [
       "<img src=\"images/belgian.png\"/>"
      ],
      "text/plain": [
       "<IPython.core.display.Image object>"
      ]
     },
     "execution_count": 16,
     "metadata": {},
     "output_type": "execute_result"
    }
   ],
   "source": [
    "Image(url= \"images/belgian.png\")"
   ]
  },
  {
   "cell_type": "code",
   "execution_count": null,
   "metadata": {},
   "outputs": [],
   "source": [
    "'''\n",
    "Ko smo imeli podatke v tej obliki smo določili kriterij uspešnosti.\n",
    "Uspešna restavracija mora imeti:\n",
    "1. dober rating\n",
    "2. veliko ocen\n",
    "3. unikatno ponudbo\n",
    "Formula ki to kolikor toliko dobro obsega je:\n",
    "\n",
    "SR = (rating2 * NumOfReviews) / št restavracij z enako ponudbo v istem mestu\n",
    "\n",
    "Success rating smo dodali tudi v dataframe kot atribut\n",
    "'''"
   ]
  },
  {
   "cell_type": "code",
   "execution_count": 17,
   "metadata": {},
   "outputs": [
    {
     "data": {
      "text/html": [
       "<img src=\"images/succrating.png\"/>"
      ],
      "text/plain": [
       "<IPython.core.display.Image object>"
      ]
     },
     "execution_count": 17,
     "metadata": {},
     "output_type": "execute_result"
    }
   ],
   "source": [
    "Image(url= \"images/succrating.png\")"
   ]
  },
  {
   "cell_type": "code",
   "execution_count": null,
   "metadata": {},
   "outputs": [],
   "source": [
    "'''\n",
    "Nato smo razdelili dataset v testno in učno množico ter \n",
    "nad njimi pognali linearni regresor.\n",
    "Na koncu smo ugotovili po računanju MSE, da je kolikor \n",
    "toliko uporabnih ocen le okrog 60%.\n",
    "'''"
   ]
  },
  {
   "cell_type": "code",
   "execution_count": null,
   "metadata": {},
   "outputs": [],
   "source": [
    "Procent uporabnih ocen: 53.0525117404"
   ]
  },
  {
   "cell_type": "code",
   "execution_count": null,
   "metadata": {},
   "outputs": [],
   "source": [
    "'''\n",
    "Zaključek\n",
    "\n",
    "Na podlagi tega smo ugotovili, da je zelo težko napovedovati \n",
    "tako obsežno stvar s tako omejenim datasetom. Podatki, ki bi\n",
    "prišli prav, so recimo povprečna distribucija obiskovalcev po\n",
    "dnevih, itd.\n",
    "'''"
   ]
  },
  {
   "cell_type": "code",
   "execution_count": null,
   "metadata": {},
   "outputs": [],
   "source": []
  }
 ],
 "metadata": {
  "kernelspec": {
   "display_name": "Python 3",
   "language": "python",
   "name": "python3"
  },
  "language_info": {
   "codemirror_mode": {
    "name": "ipython",
    "version": 2
   },
   "file_extension": ".py",
   "mimetype": "text/x-python",
   "name": "python",
   "nbconvert_exporter": "python",
   "pygments_lexer": "ipython2",
   "version": "2.7.13"
  }
 },
 "nbformat": 4,
 "nbformat_minor": 2
}
